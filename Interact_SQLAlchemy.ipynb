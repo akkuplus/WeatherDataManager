{
 "cells": [
  {
   "cell_type": "code",
   "execution_count": null,
   "metadata": {
    "ExecuteTime": {
     "end_time": "2019-07-01T19:48:11.184840Z",
     "start_time": "2019-07-01T19:48:05.302861Z"
    },
    "scrolled": true
   },
   "outputs": [],
   "source": [
    "!pip3 install sqlalchemy"
   ]
  },
  {
   "cell_type": "code",
   "execution_count": null,
   "metadata": {},
   "outputs": [],
   "source": []
  },
  {
   "cell_type": "code",
   "execution_count": 1,
   "metadata": {
    "ExecuteTime": {
     "end_time": "2019-07-08T21:07:55.269311Z",
     "start_time": "2019-07-08T21:07:50.736497Z"
    }
   },
   "outputs": [],
   "source": [
    "import sqlalchemy as db\n",
    "import pandas as pd"
   ]
  },
  {
   "cell_type": "code",
   "execution_count": 3,
   "metadata": {
    "ExecuteTime": {
     "end_time": "2019-07-08T21:09:10.086889Z",
     "start_time": "2019-07-08T21:09:09.969960Z"
    }
   },
   "outputs": [
    {
     "name": "stdout",
     "output_type": "stream",
     "text": [
      "Connected to Database Engine(sqlite:///data/weather_repo.sqlite):\n"
     ]
    },
    {
     "ename": "UnboundExecutionError",
     "evalue": "MetaData object is not bound to an Engine or Connection.  Execution can not proceed without a database to execute against.",
     "output_type": "error",
     "traceback": [
      "\u001b[1;31m---------------------------------------------------------------------------\u001b[0m",
      "\u001b[1;31mUnboundExecutionError\u001b[0m                     Traceback (most recent call last)",
      "\u001b[1;32m<ipython-input-3-68126c23838c>\u001b[0m in \u001b[0;36m<module>\u001b[1;34m\u001b[0m\n\u001b[0;32m      8\u001b[0m \u001b[0mconnection\u001b[0m \u001b[1;33m=\u001b[0m \u001b[0mengine\u001b[0m\u001b[1;33m.\u001b[0m\u001b[0mconnect\u001b[0m\u001b[1;33m(\u001b[0m\u001b[1;33m)\u001b[0m \u001b[1;31m# for queries\u001b[0m\u001b[1;33m\u001b[0m\u001b[1;33m\u001b[0m\u001b[0m\n\u001b[0;32m      9\u001b[0m \u001b[0mmetadata\u001b[0m \u001b[1;33m=\u001b[0m \u001b[0mdb\u001b[0m\u001b[1;33m.\u001b[0m\u001b[0mMetaData\u001b[0m\u001b[1;33m(\u001b[0m\u001b[1;33m)\u001b[0m\u001b[1;33m\u001b[0m\u001b[1;33m\u001b[0m\u001b[0m\n\u001b[1;32m---> 10\u001b[1;33m \u001b[0mmetadata\u001b[0m\u001b[1;33m.\u001b[0m\u001b[0mcreate_all\u001b[0m\u001b[1;33m(\u001b[0m\u001b[1;33m)\u001b[0m\u001b[1;33m\u001b[0m\u001b[1;33m\u001b[0m\u001b[0m\n\u001b[0m\u001b[0;32m     11\u001b[0m \u001b[1;32mfor\u001b[0m \u001b[0m_t\u001b[0m \u001b[1;32min\u001b[0m \u001b[0mmetadata\u001b[0m\u001b[1;33m.\u001b[0m\u001b[0mtables\u001b[0m\u001b[1;33m:\u001b[0m\u001b[1;33m\u001b[0m\u001b[1;33m\u001b[0m\u001b[0m\n\u001b[0;32m     12\u001b[0m    \u001b[0mprint\u001b[0m\u001b[1;33m(\u001b[0m\u001b[1;34m\"Table: \"\u001b[0m\u001b[1;33m,\u001b[0m \u001b[0m_t\u001b[0m\u001b[1;33m)\u001b[0m\u001b[1;33m\u001b[0m\u001b[1;33m\u001b[0m\u001b[0m\n",
      "\u001b[1;32mf:\\python\\python37\\lib\\site-packages\\sqlalchemy\\sql\\schema.py\u001b[0m in \u001b[0;36mcreate_all\u001b[1;34m(self, bind, tables, checkfirst)\u001b[0m\n\u001b[0;32m   4283\u001b[0m         \"\"\"\n\u001b[0;32m   4284\u001b[0m         \u001b[1;32mif\u001b[0m \u001b[0mbind\u001b[0m \u001b[1;32mis\u001b[0m \u001b[1;32mNone\u001b[0m\u001b[1;33m:\u001b[0m\u001b[1;33m\u001b[0m\u001b[1;33m\u001b[0m\u001b[0m\n\u001b[1;32m-> 4285\u001b[1;33m             \u001b[0mbind\u001b[0m \u001b[1;33m=\u001b[0m \u001b[0m_bind_or_error\u001b[0m\u001b[1;33m(\u001b[0m\u001b[0mself\u001b[0m\u001b[1;33m)\u001b[0m\u001b[1;33m\u001b[0m\u001b[1;33m\u001b[0m\u001b[0m\n\u001b[0m\u001b[0;32m   4286\u001b[0m         bind._run_visitor(\n\u001b[0;32m   4287\u001b[0m             \u001b[0mddl\u001b[0m\u001b[1;33m.\u001b[0m\u001b[0mSchemaGenerator\u001b[0m\u001b[1;33m,\u001b[0m \u001b[0mself\u001b[0m\u001b[1;33m,\u001b[0m \u001b[0mcheckfirst\u001b[0m\u001b[1;33m=\u001b[0m\u001b[0mcheckfirst\u001b[0m\u001b[1;33m,\u001b[0m \u001b[0mtables\u001b[0m\u001b[1;33m=\u001b[0m\u001b[0mtables\u001b[0m\u001b[1;33m\u001b[0m\u001b[1;33m\u001b[0m\u001b[0m\n",
      "\u001b[1;32mf:\\python\\python37\\lib\\site-packages\\sqlalchemy\\sql\\base.py\u001b[0m in \u001b[0;36m_bind_or_error\u001b[1;34m(schemaitem, msg)\u001b[0m\n\u001b[0;32m    667\u001b[0m                 \u001b[1;34m\"against.\"\u001b[0m \u001b[1;33m%\u001b[0m \u001b[0mitem\u001b[0m\u001b[1;33m\u001b[0m\u001b[1;33m\u001b[0m\u001b[0m\n\u001b[0;32m    668\u001b[0m             )\n\u001b[1;32m--> 669\u001b[1;33m         \u001b[1;32mraise\u001b[0m \u001b[0mexc\u001b[0m\u001b[1;33m.\u001b[0m\u001b[0mUnboundExecutionError\u001b[0m\u001b[1;33m(\u001b[0m\u001b[0mmsg\u001b[0m\u001b[1;33m)\u001b[0m\u001b[1;33m\u001b[0m\u001b[1;33m\u001b[0m\u001b[0m\n\u001b[0m\u001b[0;32m    670\u001b[0m     \u001b[1;32mreturn\u001b[0m \u001b[0mbind\u001b[0m\u001b[1;33m\u001b[0m\u001b[1;33m\u001b[0m\u001b[0m\n",
      "\u001b[1;31mUnboundExecutionError\u001b[0m: MetaData object is not bound to an Engine or Connection.  Execution can not proceed without a database to execute against."
     ]
    }
   ],
   "source": [
    "sqlite_db = {'drivername': 'sqlite', 'database': 'data/weather_repo.sqlite'}\n",
    "\n",
    "# if file in subfolder, don't start string for subfolder with \"/\"\n",
    "db_conn = db.engine.url.URL(**sqlite_db)\n",
    "engine = db.create_engine(db_conn) # for database connections\n",
    "print(\"Connected to Database {}:\".format(engine))\n",
    "\n",
    "connection = engine.connect() # for queries\n",
    "metadata = db.MetaData()\n"
   ]
  },
  {
   "cell_type": "markdown",
   "metadata": {},
   "source": [
    "## Create a Table as Data Structure with Data Type"
   ]
  },
  {
   "cell_type": "code",
   "execution_count": 16,
   "metadata": {
    "ExecuteTime": {
     "end_time": "2019-07-01T20:41:57.574802Z",
     "start_time": "2019-07-01T20:41:57.527925Z"
    }
   },
   "outputs": [],
   "source": [
    "# Create table stationen\n",
    "\n",
    "station = db.Table('stationen', metadata,\n",
    "db.Column('S_ID', db.Integer()),\n",
    "db.Column('Standort', db.String(255), nullable=False),\n",
    "db.Column('Geo_Breite', db.Float(), nullable=False),\n",
    "db.Column('Geo_Laenge', db.Float(), nullable=False),\n",
    "db.Column('Hoehe', db.Integer(), nullable=False),\n",
    "db.Column('Betreiber', db.String(255), nullable=False),\n",
    "db.Column('PLZ_matched', db.String(5), nullable=False),\n",
    "db.Column('Ort_matched', db.String(255), nullable=False),\n",
    "db.Column('Latitude_matched', db.Float(), nullable=False),\n",
    "db.Column('Longitude_matched', db.Float(), nullable=False),\n",
    "extend_existing=True\n",
    ")\n",
    "\n",
    "metadata.create_all(engine) #Creates the table"
   ]
  },
  {
   "cell_type": "code",
   "execution_count": 128,
   "metadata": {
    "ExecuteTime": {
     "end_time": "2019-07-02T21:52:23.501327Z",
     "start_time": "2019-07-02T21:52:20.123590Z"
    }
   },
   "outputs": [
    {
     "name": "stdout",
     "output_type": "stream",
     "text": [
      "Name of new table for Wettermessungen? temp\n"
     ]
    },
    {
     "data": {
      "text/plain": [
       "Table('temp', MetaData(bind=None), Column('Stations_ID', Integer(), table=<temp>, nullable=False), Column('Datum', DateTime(), table=<temp>, nullable=False), Column('Qualitaet', Integer(), table=<temp>), Column('Min_5cm', Float(), table=<temp>), Column('Min_2m', Float(), table=<temp>), Column('Mittel_2m', Float(), table=<temp>), Column('Max_2m', Float(), table=<temp>), Column('Relative_Feuchte', Float(), table=<temp>), Column('Mittel_Windstaerke', Float(), table=<temp>), Column('Max_Windgeschwindigkeit', Float(), table=<temp>), Column('Sonnenscheindauer', Float(), table=<temp>), Column('Mittel_Bedeckungsgrad', Float(), table=<temp>), Column('Niederschlagshoehe', Float(), table=<temp>), Column('Mittel_Luftdruck', Float(), table=<temp>), schema=None)"
      ]
     },
     "execution_count": 128,
     "metadata": {},
     "output_type": "execute_result"
    }
   ],
   "source": [
    "# Create table wettermessung or table temp\n",
    "\n",
    "table_name=\"\"\n",
    "\n",
    "if not table_name:\n",
    "    table_name = input(\"Name of new table for Wettermessungen? \")\n",
    "\n",
    "messung = db.Table(table_name, metadata,\n",
    "db.Column('Stations_ID', db.Integer(), nullable=False, primary_key=True),\n",
    "db.Column('Datum', db.DateTime(), nullable=False, primary_key=True),\n",
    "db.Column('Qualitaet', db.Integer(), nullable=True),\n",
    "db.Column('Min_5cm', db.Float(), nullable=True),\n",
    "db.Column('Min_2m', db.Float(), nullable=True),\n",
    "db.Column('Mittel_2m', db.Float(), nullable=True),\n",
    "db.Column('Max_2m', db.Float(), nullable=True),\n",
    "db.Column('Relative_Feuchte', db.Float(), nullable=True),\n",
    "db.Column('Mittel_Windstaerke', db.Float(), nullable=True),\n",
    "db.Column('Max_Windgeschwindigkeit', db.Float(), nullable=True),\n",
    "db.Column('Sonnenscheindauer', db.Float(), nullable=True),\n",
    "db.Column('Mittel_Bedeckungsgrad', db.Float(), nullable=True),\n",
    "db.Column('Niederschlagshoehe', db.Float(), nullable=True),\n",
    "db.Column('Mittel_Luftdruck', db.Float(), nullable=True),\n",
    "extend_existing=True\n",
    ")\n",
    "\n",
    "metadata.create_all(engine) #Creates the table\n",
    "\n",
    "\"\"\" Example data\n",
    "Stations_ID; Datum;      Qualitaet; Min_5cm; Min_2m; Mittel_2m; Max_2m; Relative_Feuchte; Mittel_Windstaerke; Max_Windgeschwindigkeit; Sonnenscheindauer; Mittel_Bedeckungsgrad; Niederschlagshoehe; Mittel_Luftdruck; \n",
    "102;         2017-12-19; 3;          ;       5,3;    6;         7,1;    96,29;            6,6;                11,6;                    0;                 ;                      ;                   1026,28;\n",
    "\"\"\"\n",
    "\n",
    "messung"
   ]
  },
  {
   "cell_type": "markdown",
   "metadata": {},
   "source": [
    "## Import Data into Tables"
   ]
  },
  {
   "cell_type": "code",
   "execution_count": 96,
   "metadata": {
    "ExecuteTime": {
     "end_time": "2019-07-02T21:28:38.341702Z",
     "start_time": "2019-07-02T21:28:38.263578Z"
    },
    "scrolled": true
   },
   "outputs": [
    {
     "data": {
      "text/html": [
       "<div>\n",
       "<style scoped>\n",
       "    .dataframe tbody tr th:only-of-type {\n",
       "        vertical-align: middle;\n",
       "    }\n",
       "\n",
       "    .dataframe tbody tr th {\n",
       "        vertical-align: top;\n",
       "    }\n",
       "\n",
       "    .dataframe thead th {\n",
       "        text-align: right;\n",
       "    }\n",
       "</style>\n",
       "<table border=\"1\" class=\"dataframe\">\n",
       "  <thead>\n",
       "    <tr style=\"text-align: right;\">\n",
       "      <th></th>\n",
       "      <th>S_ID</th>\n",
       "      <th>Standort</th>\n",
       "      <th>Geo_Breite</th>\n",
       "      <th>Geo_Laenge</th>\n",
       "      <th>Hoehe</th>\n",
       "      <th>Betreiber</th>\n",
       "      <th>Plz_matched</th>\n",
       "      <th>Ort_matched</th>\n",
       "      <th>Latitude_matched</th>\n",
       "      <th>Longitude_matched</th>\n",
       "    </tr>\n",
       "  </thead>\n",
       "  <tbody>\n",
       "    <tr>\n",
       "      <th>0</th>\n",
       "      <td>102</td>\n",
       "      <td>Leuchtturm Alte Weser</td>\n",
       "      <td>53.863</td>\n",
       "      <td>8.127</td>\n",
       "      <td>32</td>\n",
       "      <td>DWD</td>\n",
       "      <td>26486</td>\n",
       "      <td>Nordseebad Wangerooge</td>\n",
       "      <td>7.91141</td>\n",
       "      <td>53.7896</td>\n",
       "    </tr>\n",
       "    <tr>\n",
       "      <th>1</th>\n",
       "      <td>164</td>\n",
       "      <td>Angermünde</td>\n",
       "      <td>53.032</td>\n",
       "      <td>13.991</td>\n",
       "      <td>54</td>\n",
       "      <td>DWD</td>\n",
       "      <td>16278</td>\n",
       "      <td>Angermünde</td>\n",
       "      <td>14.01040</td>\n",
       "      <td>53.0547</td>\n",
       "    </tr>\n",
       "    <tr>\n",
       "      <th>2</th>\n",
       "      <td>183</td>\n",
       "      <td>Arkona</td>\n",
       "      <td>54.679</td>\n",
       "      <td>13.434</td>\n",
       "      <td>42</td>\n",
       "      <td>DWD</td>\n",
       "      <td>18556</td>\n",
       "      <td>Dranske</td>\n",
       "      <td>13.31760</td>\n",
       "      <td>54.6303</td>\n",
       "    </tr>\n",
       "    <tr>\n",
       "      <th>3</th>\n",
       "      <td>232</td>\n",
       "      <td>Augsburg</td>\n",
       "      <td>48.425</td>\n",
       "      <td>10.942</td>\n",
       "      <td>461</td>\n",
       "      <td>DWD</td>\n",
       "      <td>86169</td>\n",
       "      <td>Augsburg</td>\n",
       "      <td>10.90450</td>\n",
       "      <td>48.4209</td>\n",
       "    </tr>\n",
       "    <tr>\n",
       "      <th>4</th>\n",
       "      <td>282</td>\n",
       "      <td>Bamberg</td>\n",
       "      <td>49.874</td>\n",
       "      <td>10.921</td>\n",
       "      <td>240</td>\n",
       "      <td>DWD</td>\n",
       "      <td>96050</td>\n",
       "      <td>Bamberg</td>\n",
       "      <td>10.93140</td>\n",
       "      <td>49.8809</td>\n",
       "    </tr>\n",
       "  </tbody>\n",
       "</table>\n",
       "</div>"
      ],
      "text/plain": [
       "   S_ID               Standort  Geo_Breite  Geo_Laenge  Hoehe Betreiber  \\\n",
       "0   102  Leuchtturm Alte Weser      53.863       8.127     32       DWD   \n",
       "1   164             Angermünde      53.032      13.991     54       DWD   \n",
       "2   183                 Arkona      54.679      13.434     42       DWD   \n",
       "3   232               Augsburg      48.425      10.942    461       DWD   \n",
       "4   282                Bamberg      49.874      10.921    240       DWD   \n",
       "\n",
       "  Plz_matched            Ort_matched  Latitude_matched  Longitude_matched  \n",
       "0       26486  Nordseebad Wangerooge           7.91141            53.7896  \n",
       "1       16278             Angermünde          14.01040            53.0547  \n",
       "2       18556                Dranske          13.31760            54.6303  \n",
       "3       86169               Augsburg          10.90450            48.4209  \n",
       "4       96050                Bamberg          10.93140            49.8809  "
      ]
     },
     "execution_count": 96,
     "metadata": {},
     "output_type": "execute_result"
    }
   ],
   "source": [
    "# into Table \"stationen\"\n",
    "\n",
    "df = pd.read_pickle(\"data/stat.pkl\")\n",
    "#df.reset_index(inplace=True)\n",
    "#df.rename(columns={'index':'Index'}, inplace =True)\n",
    "df.head()"
   ]
  },
  {
   "cell_type": "code",
   "execution_count": 97,
   "metadata": {
    "ExecuteTime": {
     "end_time": "2019-07-02T21:28:42.465142Z",
     "start_time": "2019-07-02T21:28:42.387016Z"
    }
   },
   "outputs": [
    {
     "name": "stdout",
     "output_type": "stream",
     "text": [
      "Connected to Database Engine(sqlite:///data/weather_repo.sqlite):\n"
     ]
    }
   ],
   "source": [
    "print(\"Connected to Database {}:\".format(engine))\n",
    "df.to_sql('stationen', con=engine, if_exists='append', index=False)"
   ]
  },
  {
   "cell_type": "code",
   "execution_count": 129,
   "metadata": {
    "ExecuteTime": {
     "end_time": "2019-07-02T21:52:31.715033Z",
     "start_time": "2019-07-02T21:52:31.621283Z"
    },
    "scrolled": false
   },
   "outputs": [
    {
     "data": {
      "text/html": [
       "<div>\n",
       "<style scoped>\n",
       "    .dataframe tbody tr th:only-of-type {\n",
       "        vertical-align: middle;\n",
       "    }\n",
       "\n",
       "    .dataframe tbody tr th {\n",
       "        vertical-align: top;\n",
       "    }\n",
       "\n",
       "    .dataframe thead th {\n",
       "        text-align: right;\n",
       "    }\n",
       "</style>\n",
       "<table border=\"1\" class=\"dataframe\">\n",
       "  <thead>\n",
       "    <tr style=\"text-align: right;\">\n",
       "      <th></th>\n",
       "      <th>Stations_ID</th>\n",
       "      <th>Datum</th>\n",
       "      <th>Qualitaet</th>\n",
       "      <th>Min_5cm</th>\n",
       "      <th>Min_2m</th>\n",
       "      <th>Mittel_2m</th>\n",
       "      <th>Max_2m</th>\n",
       "      <th>Relative_Feuchte</th>\n",
       "      <th>Mittel_Windstaerke</th>\n",
       "      <th>Max_Windgeschwindigkeit</th>\n",
       "      <th>Sonnenscheindauer</th>\n",
       "      <th>Mittel_Bedeckungsgrad</th>\n",
       "      <th>Niederschlagshoehe</th>\n",
       "      <th>Mittel_Luftdruck</th>\n",
       "    </tr>\n",
       "  </thead>\n",
       "  <tbody>\n",
       "    <tr>\n",
       "      <th>0</th>\n",
       "      <td>102</td>\n",
       "      <td>2017-12-27</td>\n",
       "      <td>3.0</td>\n",
       "      <td>NaN</td>\n",
       "      <td>4.0</td>\n",
       "      <td>5.0</td>\n",
       "      <td>5.7</td>\n",
       "      <td>87.63</td>\n",
       "      <td>9.7</td>\n",
       "      <td>16.3</td>\n",
       "      <td>0.000</td>\n",
       "      <td>NaN</td>\n",
       "      <td>NaN</td>\n",
       "      <td>981.17</td>\n",
       "    </tr>\n",
       "    <tr>\n",
       "      <th>1</th>\n",
       "      <td>102</td>\n",
       "      <td>2017-12-28</td>\n",
       "      <td>3.0</td>\n",
       "      <td>NaN</td>\n",
       "      <td>2.7</td>\n",
       "      <td>4.7</td>\n",
       "      <td>6.3</td>\n",
       "      <td>83.42</td>\n",
       "      <td>12.6</td>\n",
       "      <td>20.9</td>\n",
       "      <td>1.900</td>\n",
       "      <td>NaN</td>\n",
       "      <td>NaN</td>\n",
       "      <td>987.32</td>\n",
       "    </tr>\n",
       "    <tr>\n",
       "      <th>2</th>\n",
       "      <td>102</td>\n",
       "      <td>2017-12-29</td>\n",
       "      <td>3.0</td>\n",
       "      <td>NaN</td>\n",
       "      <td>1.8</td>\n",
       "      <td>3.0</td>\n",
       "      <td>4.5</td>\n",
       "      <td>86.83</td>\n",
       "      <td>13.2</td>\n",
       "      <td>20.5</td>\n",
       "      <td>4.533</td>\n",
       "      <td>NaN</td>\n",
       "      <td>NaN</td>\n",
       "      <td>994.75</td>\n",
       "    </tr>\n",
       "    <tr>\n",
       "      <th>3</th>\n",
       "      <td>102</td>\n",
       "      <td>2017-12-30</td>\n",
       "      <td>3.0</td>\n",
       "      <td>NaN</td>\n",
       "      <td>2.8</td>\n",
       "      <td>5.3</td>\n",
       "      <td>7.9</td>\n",
       "      <td>92.00</td>\n",
       "      <td>13.8</td>\n",
       "      <td>25.0</td>\n",
       "      <td>0.000</td>\n",
       "      <td>NaN</td>\n",
       "      <td>NaN</td>\n",
       "      <td>989.25</td>\n",
       "    </tr>\n",
       "    <tr>\n",
       "      <th>4</th>\n",
       "      <td>102</td>\n",
       "      <td>2017-12-31</td>\n",
       "      <td>3.0</td>\n",
       "      <td>NaN</td>\n",
       "      <td>6.1</td>\n",
       "      <td>8.3</td>\n",
       "      <td>11.0</td>\n",
       "      <td>93.38</td>\n",
       "      <td>11.4</td>\n",
       "      <td>20.1</td>\n",
       "      <td>0.000</td>\n",
       "      <td>NaN</td>\n",
       "      <td>NaN</td>\n",
       "      <td>991.57</td>\n",
       "    </tr>\n",
       "  </tbody>\n",
       "</table>\n",
       "</div>"
      ],
      "text/plain": [
       "   Stations_ID      Datum  Qualitaet  Min_5cm  Min_2m  Mittel_2m  Max_2m  \\\n",
       "0          102 2017-12-27        3.0      NaN     4.0        5.0     5.7   \n",
       "1          102 2017-12-28        3.0      NaN     2.7        4.7     6.3   \n",
       "2          102 2017-12-29        3.0      NaN     1.8        3.0     4.5   \n",
       "3          102 2017-12-30        3.0      NaN     2.8        5.3     7.9   \n",
       "4          102 2017-12-31        3.0      NaN     6.1        8.3    11.0   \n",
       "\n",
       "   Relative_Feuchte  Mittel_Windstaerke  Max_Windgeschwindigkeit  \\\n",
       "0             87.63                 9.7                     16.3   \n",
       "1             83.42                12.6                     20.9   \n",
       "2             86.83                13.2                     20.5   \n",
       "3             92.00                13.8                     25.0   \n",
       "4             93.38                11.4                     20.1   \n",
       "\n",
       "   Sonnenscheindauer  Mittel_Bedeckungsgrad  Niederschlagshoehe  \\\n",
       "0              0.000                    NaN                 NaN   \n",
       "1              1.900                    NaN                 NaN   \n",
       "2              4.533                    NaN                 NaN   \n",
       "3              0.000                    NaN                 NaN   \n",
       "4              0.000                    NaN                 NaN   \n",
       "\n",
       "   Mittel_Luftdruck  \n",
       "0            981.17  \n",
       "1            987.32  \n",
       "2            994.75  \n",
       "3            989.25  \n",
       "4            991.57  "
      ]
     },
     "execution_count": 129,
     "metadata": {},
     "output_type": "execute_result"
    }
   ],
   "source": [
    "# Into Table \"wettermessung\" or Table \"temp\"\n",
    "\n",
    "df = pd.read_pickle(\"data/wett.pkl\")\n",
    "#df.reset_index(inplace=True)\n",
    "#df.rename(columns={'index':'Index'}, inplace =True)\n",
    "df.head()"
   ]
  },
  {
   "cell_type": "code",
   "execution_count": 130,
   "metadata": {
    "ExecuteTime": {
     "end_time": "2019-07-02T21:52:34.840541Z",
     "start_time": "2019-07-02T21:52:34.809290Z"
    }
   },
   "outputs": [
    {
     "data": {
      "text/plain": [
       "Stations_ID                         int64\n",
       "Datum                      datetime64[ns]\n",
       "Qualitaet                         float64\n",
       "Min_5cm                           float64\n",
       "Min_2m                            float64\n",
       "Mittel_2m                         float64\n",
       "Max_2m                            float64\n",
       "Relative_Feuchte                  float64\n",
       "Mittel_Windstaerke                float64\n",
       "Max_Windgeschwindigkeit           float64\n",
       "Sonnenscheindauer                 float64\n",
       "Mittel_Bedeckungsgrad             float64\n",
       "Niederschlagshoehe                float64\n",
       "Mittel_Luftdruck                  float64\n",
       "dtype: object"
      ]
     },
     "execution_count": 130,
     "metadata": {},
     "output_type": "execute_result"
    }
   ],
   "source": [
    "df.dtypes\n"
   ]
  },
  {
   "cell_type": "code",
   "execution_count": 131,
   "metadata": {
    "ExecuteTime": {
     "end_time": "2019-07-02T21:52:38.529472Z",
     "start_time": "2019-07-02T21:52:38.123105Z"
    }
   },
   "outputs": [
    {
     "data": {
      "text/plain": [
       "Timestamp('2019-06-29 00:00:00')"
      ]
     },
     "execution_count": 131,
     "metadata": {},
     "output_type": "execute_result"
    }
   ],
   "source": [
    "max(df[\"Datum\"])"
   ]
  },
  {
   "cell_type": "code",
   "execution_count": 132,
   "metadata": {
    "ExecuteTime": {
     "end_time": "2019-07-02T21:52:41.450770Z",
     "start_time": "2019-07-02T21:52:41.419519Z"
    }
   },
   "outputs": [
    {
     "data": {
      "text/plain": [
       "0        False\n",
       "1        False\n",
       "2        False\n",
       "3        False\n",
       "4        False\n",
       "5        False\n",
       "6        False\n",
       "7        False\n",
       "8        False\n",
       "9        False\n",
       "10       False\n",
       "11       False\n",
       "12       False\n",
       "13       False\n",
       "14       False\n",
       "15       False\n",
       "16       False\n",
       "17       False\n",
       "18       False\n",
       "19       False\n",
       "20       False\n",
       "21       False\n",
       "22       False\n",
       "23       False\n",
       "24       False\n",
       "25       False\n",
       "26       False\n",
       "27       False\n",
       "28       False\n",
       "29       False\n",
       "         ...  \n",
       "41327    False\n",
       "41328    False\n",
       "41329    False\n",
       "41330    False\n",
       "41331    False\n",
       "41332    False\n",
       "41333    False\n",
       "41334    False\n",
       "41335    False\n",
       "41336    False\n",
       "41337    False\n",
       "41338    False\n",
       "41339    False\n",
       "41340    False\n",
       "41341    False\n",
       "41342    False\n",
       "41343    False\n",
       "41344    False\n",
       "41345    False\n",
       "41346    False\n",
       "41347    False\n",
       "41348    False\n",
       "41349    False\n",
       "41350    False\n",
       "41351    False\n",
       "41352    False\n",
       "41353    False\n",
       "41354    False\n",
       "41355    False\n",
       "41356     True\n",
       "Name: Datum, Length: 41357, dtype: bool"
      ]
     },
     "execution_count": 132,
     "metadata": {},
     "output_type": "execute_result"
    }
   ],
   "source": [
    "#df.drop( df.loc[\"Stations_ID\"]==15000, inplace=True)\n",
    "\n",
    "#df[df.loc[\"Stations_ID\"]==15000,:]\n",
    "\n",
    "df[\"Datum\"] == \"2019-06-29\"\n",
    "\n",
    "\n"
   ]
  },
  {
   "cell_type": "code",
   "execution_count": 116,
   "metadata": {
    "ExecuteTime": {
     "end_time": "2019-07-02T21:47:02.214030Z",
     "start_time": "2019-07-02T21:47:02.182779Z"
    }
   },
   "outputs": [],
   "source": [
    "df = df[df[\"Datum\"] != \"2019-06-29\"]"
   ]
  },
  {
   "cell_type": "code",
   "execution_count": 133,
   "metadata": {
    "ExecuteTime": {
     "end_time": "2019-07-02T21:52:48.497716Z",
     "start_time": "2019-07-02T21:52:48.466101Z"
    }
   },
   "outputs": [
    {
     "data": {
      "text/plain": [
       "'temp'"
      ]
     },
     "execution_count": 133,
     "metadata": {},
     "output_type": "execute_result"
    }
   ],
   "source": [
    "messung.fullname\n"
   ]
  },
  {
   "cell_type": "code",
   "execution_count": 135,
   "metadata": {
    "ExecuteTime": {
     "end_time": "2019-07-02T21:53:41.543158Z",
     "start_time": "2019-07-02T21:53:38.685429Z"
    }
   },
   "outputs": [
    {
     "name": "stdout",
     "output_type": "stream",
     "text": [
      "Connected to Database Engine(sqlite:///data/weather_repo.sqlite):\n"
     ]
    }
   ],
   "source": [
    "print(\"Connected to Database {}:\".format(engine))\n",
    "\n",
    "table_name = messung.fullname\n",
    "#table_name = \"temp\"\n",
    "\n",
    "df.to_sql(table_name, con=engine, if_exists='replace', index=False)"
   ]
  },
  {
   "cell_type": "markdown",
   "metadata": {},
   "source": [
    "## Inspect Tables and Table structure"
   ]
  },
  {
   "cell_type": "code",
   "execution_count": 136,
   "metadata": {
    "ExecuteTime": {
     "end_time": "2019-07-02T21:53:48.450259Z",
     "start_time": "2019-07-02T21:53:48.403388Z"
    }
   },
   "outputs": [
    {
     "name": "stdout",
     "output_type": "stream",
     "text": [
      "stationen\n",
      "Column: S_ID\n",
      "Column: Standort\n",
      "Column: Geo_Breite\n",
      "Column: Geo_Laenge\n",
      "Column: Hoehe\n",
      "Column: Betreiber\n",
      "Column: Plz_matched\n",
      "Column: Ort_matched\n",
      "Column: Latitude_matched\n",
      "Column: Longitude_matched\n",
      "temp\n",
      "Column: Stations_ID\n",
      "Column: Datum\n",
      "Column: Qualitaet\n",
      "Column: Min_5cm\n",
      "Column: Min_2m\n",
      "Column: Mittel_2m\n",
      "Column: Max_2m\n",
      "Column: Relative_Feuchte\n",
      "Column: Mittel_Windstaerke\n",
      "Column: Max_Windgeschwindigkeit\n",
      "Column: Sonnenscheindauer\n",
      "Column: Mittel_Bedeckungsgrad\n",
      "Column: Niederschlagshoehe\n",
      "Column: Mittel_Luftdruck\n",
      "wettermessung\n",
      "Column: Stations_ID\n",
      "Column: Datum\n",
      "Column: Qualitaet\n",
      "Column: Min_5cm\n",
      "Column: Min_2m\n",
      "Column: Mittel_2m\n",
      "Column: Max_2m\n",
      "Column: Relative_Feuchte\n",
      "Column: Mittel_Windstaerke\n",
      "Column: Max_Windgeschwindigkeit\n",
      "Column: Sonnenscheindauer\n",
      "Column: Mittel_Bedeckungsgrad\n",
      "Column: Niederschlagshoehe\n",
      "Column: Mittel_Luftdruck\n"
     ]
    }
   ],
   "source": [
    "inspector = db.inspect(engine)\n",
    "\n",
    "for table_name in inspector.get_table_names():\n",
    "    print(table_name)\n",
    "    for column in inspector.get_columns(table_name):\n",
    "        print(\"Column: %s\" % column['name'])"
   ]
  },
  {
   "cell_type": "code",
   "execution_count": 120,
   "metadata": {
    "ExecuteTime": {
     "end_time": "2019-07-02T21:48:30.605873Z",
     "start_time": "2019-07-02T21:48:30.562031Z"
    },
    "scrolled": false
   },
   "outputs": [
    {
     "name": "stdout",
     "output_type": "stream",
     "text": [
      "stationen\n",
      "Column: S_ID\n",
      "Column: Standort\n",
      "Column: Geo_Breite\n",
      "Column: Geo_Laenge\n",
      "Column: Hoehe\n",
      "Column: Betreiber\n",
      "Column: Plz_matched\n",
      "Column: Ort_matched\n",
      "Column: Latitude_matched\n",
      "Column: Longitude_matched\n",
      "temp\n",
      "Column: Stations_ID\n",
      "Column: Datum\n",
      "Column: Qualitaet\n",
      "Column: Min_5cm\n",
      "Column: Min_2m\n",
      "Column: Mittel_2m\n",
      "Column: Max_2m\n",
      "Column: Relative_Feuchte\n",
      "Column: Mittel_Windstaerke\n",
      "Column: Max_Windgeschwindigkeit\n",
      "Column: Sonnenscheindauer\n",
      "Column: Mittel_Bedeckungsgrad\n",
      "Column: Niederschlagshoehe\n",
      "Column: Mittel_Luftdruck\n",
      "wettermessung\n",
      "Column: Stations_ID\n",
      "Column: Datum\n",
      "Column: Qualitaet\n",
      "Column: Min_5cm\n",
      "Column: Min_2m\n",
      "Column: Mittel_2m\n",
      "Column: Max_2m\n",
      "Column: Relative_Feuchte\n",
      "Column: Mittel_Windstaerke\n",
      "Column: Max_Windgeschwindigkeit\n",
      "Column: Sonnenscheindauer\n",
      "Column: Mittel_Bedeckungsgrad\n",
      "Column: Niederschlagshoehe\n",
      "Column: Mittel_Luftdruck\n"
     ]
    }
   ],
   "source": [
    "m = db.MetaData()\n",
    "m.reflect(engine)\n",
    "for table in m.tables.values():\n",
    "    print(table.name)\n",
    "    for column in table.c:\n",
    "        print(\"Column: %s\" % column.name)"
   ]
  },
  {
   "cell_type": "markdown",
   "metadata": {},
   "source": [
    "## Delete single table"
   ]
  },
  {
   "cell_type": "code",
   "execution_count": 79,
   "metadata": {
    "ExecuteTime": {
     "end_time": "2019-07-02T21:19:10.841814Z",
     "start_time": "2019-07-02T21:19:10.732440Z"
    }
   },
   "outputs": [
    {
     "ename": "OperationalError",
     "evalue": "(sqlite3.OperationalError) no such table: station\n[SQL: \nDROP TABLE station]\n(Background on this error at: http://sqlalche.me/e/e3q8)",
     "output_type": "error",
     "traceback": [
      "\u001b[1;31m---------------------------------------------------------------------------\u001b[0m",
      "\u001b[1;31mOperationalError\u001b[0m                          Traceback (most recent call last)",
      "\u001b[1;32mf:\\python\\python37\\lib\\site-packages\\sqlalchemy\\engine\\base.py\u001b[0m in \u001b[0;36m_execute_context\u001b[1;34m(self, dialect, constructor, statement, parameters, *args)\u001b[0m\n\u001b[0;32m   1243\u001b[0m                     self.dialect.do_execute(\n\u001b[1;32m-> 1244\u001b[1;33m                         \u001b[0mcursor\u001b[0m\u001b[1;33m,\u001b[0m \u001b[0mstatement\u001b[0m\u001b[1;33m,\u001b[0m \u001b[0mparameters\u001b[0m\u001b[1;33m,\u001b[0m \u001b[0mcontext\u001b[0m\u001b[1;33m\u001b[0m\u001b[1;33m\u001b[0m\u001b[0m\n\u001b[0m\u001b[0;32m   1245\u001b[0m                     )\n",
      "\u001b[1;32mf:\\python\\python37\\lib\\site-packages\\sqlalchemy\\engine\\default.py\u001b[0m in \u001b[0;36mdo_execute\u001b[1;34m(self, cursor, statement, parameters, context)\u001b[0m\n\u001b[0;32m    549\u001b[0m     \u001b[1;32mdef\u001b[0m \u001b[0mdo_execute\u001b[0m\u001b[1;33m(\u001b[0m\u001b[0mself\u001b[0m\u001b[1;33m,\u001b[0m \u001b[0mcursor\u001b[0m\u001b[1;33m,\u001b[0m \u001b[0mstatement\u001b[0m\u001b[1;33m,\u001b[0m \u001b[0mparameters\u001b[0m\u001b[1;33m,\u001b[0m \u001b[0mcontext\u001b[0m\u001b[1;33m=\u001b[0m\u001b[1;32mNone\u001b[0m\u001b[1;33m)\u001b[0m\u001b[1;33m:\u001b[0m\u001b[1;33m\u001b[0m\u001b[1;33m\u001b[0m\u001b[0m\n\u001b[1;32m--> 550\u001b[1;33m         \u001b[0mcursor\u001b[0m\u001b[1;33m.\u001b[0m\u001b[0mexecute\u001b[0m\u001b[1;33m(\u001b[0m\u001b[0mstatement\u001b[0m\u001b[1;33m,\u001b[0m \u001b[0mparameters\u001b[0m\u001b[1;33m)\u001b[0m\u001b[1;33m\u001b[0m\u001b[1;33m\u001b[0m\u001b[0m\n\u001b[0m\u001b[0;32m    551\u001b[0m \u001b[1;33m\u001b[0m\u001b[0m\n",
      "\u001b[1;31mOperationalError\u001b[0m: no such table: station",
      "\nThe above exception was the direct cause of the following exception:\n",
      "\u001b[1;31mOperationalError\u001b[0m                          Traceback (most recent call last)",
      "\u001b[1;32m<ipython-input-79-40fce030f79a>\u001b[0m in \u001b[0;36m<module>\u001b[1;34m\u001b[0m\n\u001b[0;32m      3\u001b[0m                    \u001b[0mautoload\u001b[0m\u001b[1;33m=\u001b[0m\u001b[1;32mTrue\u001b[0m\u001b[1;33m,\u001b[0m\u001b[1;33m\u001b[0m\u001b[1;33m\u001b[0m\u001b[0m\n\u001b[0;32m      4\u001b[0m                    autoload_with=engine)\n\u001b[1;32m----> 5\u001b[1;33m \u001b[0mstation\u001b[0m\u001b[1;33m.\u001b[0m\u001b[0mdrop\u001b[0m\u001b[1;33m(\u001b[0m\u001b[0mengine\u001b[0m\u001b[1;33m)\u001b[0m\u001b[1;33m\u001b[0m\u001b[1;33m\u001b[0m\u001b[0m\n\u001b[0m",
      "\u001b[1;32mf:\\python\\python37\\lib\\site-packages\\sqlalchemy\\sql\\schema.py\u001b[0m in \u001b[0;36mdrop\u001b[1;34m(self, bind, checkfirst)\u001b[0m\n\u001b[0;32m    872\u001b[0m         \u001b[1;32mif\u001b[0m \u001b[0mbind\u001b[0m \u001b[1;32mis\u001b[0m \u001b[1;32mNone\u001b[0m\u001b[1;33m:\u001b[0m\u001b[1;33m\u001b[0m\u001b[1;33m\u001b[0m\u001b[0m\n\u001b[0;32m    873\u001b[0m             \u001b[0mbind\u001b[0m \u001b[1;33m=\u001b[0m \u001b[0m_bind_or_error\u001b[0m\u001b[1;33m(\u001b[0m\u001b[0mself\u001b[0m\u001b[1;33m)\u001b[0m\u001b[1;33m\u001b[0m\u001b[1;33m\u001b[0m\u001b[0m\n\u001b[1;32m--> 874\u001b[1;33m         \u001b[0mbind\u001b[0m\u001b[1;33m.\u001b[0m\u001b[0m_run_visitor\u001b[0m\u001b[1;33m(\u001b[0m\u001b[0mddl\u001b[0m\u001b[1;33m.\u001b[0m\u001b[0mSchemaDropper\u001b[0m\u001b[1;33m,\u001b[0m \u001b[0mself\u001b[0m\u001b[1;33m,\u001b[0m \u001b[0mcheckfirst\u001b[0m\u001b[1;33m=\u001b[0m\u001b[0mcheckfirst\u001b[0m\u001b[1;33m)\u001b[0m\u001b[1;33m\u001b[0m\u001b[1;33m\u001b[0m\u001b[0m\n\u001b[0m\u001b[0;32m    875\u001b[0m \u001b[1;33m\u001b[0m\u001b[0m\n\u001b[0;32m    876\u001b[0m     def tometadata(\n",
      "\u001b[1;32mf:\\python\\python37\\lib\\site-packages\\sqlalchemy\\engine\\base.py\u001b[0m in \u001b[0;36m_run_visitor\u001b[1;34m(self, visitorcallable, element, connection, **kwargs)\u001b[0m\n\u001b[0;32m   2031\u001b[0m     ):\n\u001b[0;32m   2032\u001b[0m         \u001b[1;32mwith\u001b[0m \u001b[0mself\u001b[0m\u001b[1;33m.\u001b[0m\u001b[0m_optional_conn_ctx_manager\u001b[0m\u001b[1;33m(\u001b[0m\u001b[0mconnection\u001b[0m\u001b[1;33m)\u001b[0m \u001b[1;32mas\u001b[0m \u001b[0mconn\u001b[0m\u001b[1;33m:\u001b[0m\u001b[1;33m\u001b[0m\u001b[1;33m\u001b[0m\u001b[0m\n\u001b[1;32m-> 2033\u001b[1;33m             \u001b[0mconn\u001b[0m\u001b[1;33m.\u001b[0m\u001b[0m_run_visitor\u001b[0m\u001b[1;33m(\u001b[0m\u001b[0mvisitorcallable\u001b[0m\u001b[1;33m,\u001b[0m \u001b[0melement\u001b[0m\u001b[1;33m,\u001b[0m \u001b[1;33m**\u001b[0m\u001b[0mkwargs\u001b[0m\u001b[1;33m)\u001b[0m\u001b[1;33m\u001b[0m\u001b[1;33m\u001b[0m\u001b[0m\n\u001b[0m\u001b[0;32m   2034\u001b[0m \u001b[1;33m\u001b[0m\u001b[0m\n\u001b[0;32m   2035\u001b[0m     \u001b[1;32mclass\u001b[0m \u001b[0m_trans_ctx\u001b[0m\u001b[1;33m(\u001b[0m\u001b[0mobject\u001b[0m\u001b[1;33m)\u001b[0m\u001b[1;33m:\u001b[0m\u001b[1;33m\u001b[0m\u001b[1;33m\u001b[0m\u001b[0m\n",
      "\u001b[1;32mf:\\python\\python37\\lib\\site-packages\\sqlalchemy\\engine\\base.py\u001b[0m in \u001b[0;36m_run_visitor\u001b[1;34m(self, visitorcallable, element, **kwargs)\u001b[0m\n\u001b[0;32m   1605\u001b[0m \u001b[1;33m\u001b[0m\u001b[0m\n\u001b[0;32m   1606\u001b[0m     \u001b[1;32mdef\u001b[0m \u001b[0m_run_visitor\u001b[0m\u001b[1;33m(\u001b[0m\u001b[0mself\u001b[0m\u001b[1;33m,\u001b[0m \u001b[0mvisitorcallable\u001b[0m\u001b[1;33m,\u001b[0m \u001b[0melement\u001b[0m\u001b[1;33m,\u001b[0m \u001b[1;33m**\u001b[0m\u001b[0mkwargs\u001b[0m\u001b[1;33m)\u001b[0m\u001b[1;33m:\u001b[0m\u001b[1;33m\u001b[0m\u001b[1;33m\u001b[0m\u001b[0m\n\u001b[1;32m-> 1607\u001b[1;33m         \u001b[0mvisitorcallable\u001b[0m\u001b[1;33m(\u001b[0m\u001b[0mself\u001b[0m\u001b[1;33m.\u001b[0m\u001b[0mdialect\u001b[0m\u001b[1;33m,\u001b[0m \u001b[0mself\u001b[0m\u001b[1;33m,\u001b[0m \u001b[1;33m**\u001b[0m\u001b[0mkwargs\u001b[0m\u001b[1;33m)\u001b[0m\u001b[1;33m.\u001b[0m\u001b[0mtraverse_single\u001b[0m\u001b[1;33m(\u001b[0m\u001b[0melement\u001b[0m\u001b[1;33m)\u001b[0m\u001b[1;33m\u001b[0m\u001b[1;33m\u001b[0m\u001b[0m\n\u001b[0m\u001b[0;32m   1608\u001b[0m \u001b[1;33m\u001b[0m\u001b[0m\n\u001b[0;32m   1609\u001b[0m \u001b[1;33m\u001b[0m\u001b[0m\n",
      "\u001b[1;32mf:\\python\\python37\\lib\\site-packages\\sqlalchemy\\sql\\visitors.py\u001b[0m in \u001b[0;36mtraverse_single\u001b[1;34m(self, obj, **kw)\u001b[0m\n\u001b[0;32m    129\u001b[0m             \u001b[0mmeth\u001b[0m \u001b[1;33m=\u001b[0m \u001b[0mgetattr\u001b[0m\u001b[1;33m(\u001b[0m\u001b[0mv\u001b[0m\u001b[1;33m,\u001b[0m \u001b[1;34m\"visit_%s\"\u001b[0m \u001b[1;33m%\u001b[0m \u001b[0mobj\u001b[0m\u001b[1;33m.\u001b[0m\u001b[0m__visit_name__\u001b[0m\u001b[1;33m,\u001b[0m \u001b[1;32mNone\u001b[0m\u001b[1;33m)\u001b[0m\u001b[1;33m\u001b[0m\u001b[1;33m\u001b[0m\u001b[0m\n\u001b[0;32m    130\u001b[0m             \u001b[1;32mif\u001b[0m \u001b[0mmeth\u001b[0m\u001b[1;33m:\u001b[0m\u001b[1;33m\u001b[0m\u001b[1;33m\u001b[0m\u001b[0m\n\u001b[1;32m--> 131\u001b[1;33m                 \u001b[1;32mreturn\u001b[0m \u001b[0mmeth\u001b[0m\u001b[1;33m(\u001b[0m\u001b[0mobj\u001b[0m\u001b[1;33m,\u001b[0m \u001b[1;33m**\u001b[0m\u001b[0mkw\u001b[0m\u001b[1;33m)\u001b[0m\u001b[1;33m\u001b[0m\u001b[1;33m\u001b[0m\u001b[0m\n\u001b[0m\u001b[0;32m    132\u001b[0m \u001b[1;33m\u001b[0m\u001b[0m\n\u001b[0;32m    133\u001b[0m     \u001b[1;32mdef\u001b[0m \u001b[0miterate\u001b[0m\u001b[1;33m(\u001b[0m\u001b[0mself\u001b[0m\u001b[1;33m,\u001b[0m \u001b[0mobj\u001b[0m\u001b[1;33m)\u001b[0m\u001b[1;33m:\u001b[0m\u001b[1;33m\u001b[0m\u001b[1;33m\u001b[0m\u001b[0m\n",
      "\u001b[1;32mf:\\python\\python37\\lib\\site-packages\\sqlalchemy\\sql\\ddl.py\u001b[0m in \u001b[0;36mvisit_table\u001b[1;34m(self, table, drop_ok, _is_metadata_operation)\u001b[0m\n\u001b[0;32m   1000\u001b[0m         )\n\u001b[0;32m   1001\u001b[0m \u001b[1;33m\u001b[0m\u001b[0m\n\u001b[1;32m-> 1002\u001b[1;33m         \u001b[0mself\u001b[0m\u001b[1;33m.\u001b[0m\u001b[0mconnection\u001b[0m\u001b[1;33m.\u001b[0m\u001b[0mexecute\u001b[0m\u001b[1;33m(\u001b[0m\u001b[0mDropTable\u001b[0m\u001b[1;33m(\u001b[0m\u001b[0mtable\u001b[0m\u001b[1;33m)\u001b[0m\u001b[1;33m)\u001b[0m\u001b[1;33m\u001b[0m\u001b[1;33m\u001b[0m\u001b[0m\n\u001b[0m\u001b[0;32m   1003\u001b[0m \u001b[1;33m\u001b[0m\u001b[0m\n\u001b[0;32m   1004\u001b[0m         \u001b[1;31m# traverse client side defaults which may refer to server-side\u001b[0m\u001b[1;33m\u001b[0m\u001b[1;33m\u001b[0m\u001b[1;33m\u001b[0m\u001b[0m\n",
      "\u001b[1;32mf:\\python\\python37\\lib\\site-packages\\sqlalchemy\\engine\\base.py\u001b[0m in \u001b[0;36mexecute\u001b[1;34m(self, object_, *multiparams, **params)\u001b[0m\n\u001b[0;32m    986\u001b[0m             \u001b[1;32mraise\u001b[0m \u001b[0mexc\u001b[0m\u001b[1;33m.\u001b[0m\u001b[0mObjectNotExecutableError\u001b[0m\u001b[1;33m(\u001b[0m\u001b[0mobject_\u001b[0m\u001b[1;33m)\u001b[0m\u001b[1;33m\u001b[0m\u001b[1;33m\u001b[0m\u001b[0m\n\u001b[0;32m    987\u001b[0m         \u001b[1;32melse\u001b[0m\u001b[1;33m:\u001b[0m\u001b[1;33m\u001b[0m\u001b[1;33m\u001b[0m\u001b[0m\n\u001b[1;32m--> 988\u001b[1;33m             \u001b[1;32mreturn\u001b[0m \u001b[0mmeth\u001b[0m\u001b[1;33m(\u001b[0m\u001b[0mself\u001b[0m\u001b[1;33m,\u001b[0m \u001b[0mmultiparams\u001b[0m\u001b[1;33m,\u001b[0m \u001b[0mparams\u001b[0m\u001b[1;33m)\u001b[0m\u001b[1;33m\u001b[0m\u001b[1;33m\u001b[0m\u001b[0m\n\u001b[0m\u001b[0;32m    989\u001b[0m \u001b[1;33m\u001b[0m\u001b[0m\n\u001b[0;32m    990\u001b[0m     \u001b[1;32mdef\u001b[0m \u001b[0m_execute_function\u001b[0m\u001b[1;33m(\u001b[0m\u001b[0mself\u001b[0m\u001b[1;33m,\u001b[0m \u001b[0mfunc\u001b[0m\u001b[1;33m,\u001b[0m \u001b[0mmultiparams\u001b[0m\u001b[1;33m,\u001b[0m \u001b[0mparams\u001b[0m\u001b[1;33m)\u001b[0m\u001b[1;33m:\u001b[0m\u001b[1;33m\u001b[0m\u001b[1;33m\u001b[0m\u001b[0m\n",
      "\u001b[1;32mf:\\python\\python37\\lib\\site-packages\\sqlalchemy\\sql\\ddl.py\u001b[0m in \u001b[0;36m_execute_on_connection\u001b[1;34m(self, connection, multiparams, params)\u001b[0m\n\u001b[0;32m     70\u001b[0m \u001b[1;33m\u001b[0m\u001b[0m\n\u001b[0;32m     71\u001b[0m     \u001b[1;32mdef\u001b[0m \u001b[0m_execute_on_connection\u001b[0m\u001b[1;33m(\u001b[0m\u001b[0mself\u001b[0m\u001b[1;33m,\u001b[0m \u001b[0mconnection\u001b[0m\u001b[1;33m,\u001b[0m \u001b[0mmultiparams\u001b[0m\u001b[1;33m,\u001b[0m \u001b[0mparams\u001b[0m\u001b[1;33m)\u001b[0m\u001b[1;33m:\u001b[0m\u001b[1;33m\u001b[0m\u001b[1;33m\u001b[0m\u001b[0m\n\u001b[1;32m---> 72\u001b[1;33m         \u001b[1;32mreturn\u001b[0m \u001b[0mconnection\u001b[0m\u001b[1;33m.\u001b[0m\u001b[0m_execute_ddl\u001b[0m\u001b[1;33m(\u001b[0m\u001b[0mself\u001b[0m\u001b[1;33m,\u001b[0m \u001b[0mmultiparams\u001b[0m\u001b[1;33m,\u001b[0m \u001b[0mparams\u001b[0m\u001b[1;33m)\u001b[0m\u001b[1;33m\u001b[0m\u001b[1;33m\u001b[0m\u001b[0m\n\u001b[0m\u001b[0;32m     73\u001b[0m \u001b[1;33m\u001b[0m\u001b[0m\n\u001b[0;32m     74\u001b[0m     \u001b[1;32mdef\u001b[0m \u001b[0mexecute\u001b[0m\u001b[1;33m(\u001b[0m\u001b[0mself\u001b[0m\u001b[1;33m,\u001b[0m \u001b[0mbind\u001b[0m\u001b[1;33m=\u001b[0m\u001b[1;32mNone\u001b[0m\u001b[1;33m,\u001b[0m \u001b[0mtarget\u001b[0m\u001b[1;33m=\u001b[0m\u001b[1;32mNone\u001b[0m\u001b[1;33m)\u001b[0m\u001b[1;33m:\u001b[0m\u001b[1;33m\u001b[0m\u001b[1;33m\u001b[0m\u001b[0m\n",
      "\u001b[1;32mf:\\python\\python37\\lib\\site-packages\\sqlalchemy\\engine\\base.py\u001b[0m in \u001b[0;36m_execute_ddl\u001b[1;34m(self, ddl, multiparams, params)\u001b[0m\n\u001b[0;32m   1048\u001b[0m             \u001b[0mcompiled\u001b[0m\u001b[1;33m,\u001b[0m\u001b[1;33m\u001b[0m\u001b[1;33m\u001b[0m\u001b[0m\n\u001b[0;32m   1049\u001b[0m             \u001b[1;32mNone\u001b[0m\u001b[1;33m,\u001b[0m\u001b[1;33m\u001b[0m\u001b[1;33m\u001b[0m\u001b[0m\n\u001b[1;32m-> 1050\u001b[1;33m             \u001b[0mcompiled\u001b[0m\u001b[1;33m,\u001b[0m\u001b[1;33m\u001b[0m\u001b[1;33m\u001b[0m\u001b[0m\n\u001b[0m\u001b[0;32m   1051\u001b[0m         )\n\u001b[0;32m   1052\u001b[0m         \u001b[1;32mif\u001b[0m \u001b[0mself\u001b[0m\u001b[1;33m.\u001b[0m\u001b[0m_has_events\u001b[0m \u001b[1;32mor\u001b[0m \u001b[0mself\u001b[0m\u001b[1;33m.\u001b[0m\u001b[0mengine\u001b[0m\u001b[1;33m.\u001b[0m\u001b[0m_has_events\u001b[0m\u001b[1;33m:\u001b[0m\u001b[1;33m\u001b[0m\u001b[1;33m\u001b[0m\u001b[0m\n",
      "\u001b[1;32mf:\\python\\python37\\lib\\site-packages\\sqlalchemy\\engine\\base.py\u001b[0m in \u001b[0;36m_execute_context\u001b[1;34m(self, dialect, constructor, statement, parameters, *args)\u001b[0m\n\u001b[0;32m   1246\u001b[0m         \u001b[1;32mexcept\u001b[0m \u001b[0mBaseException\u001b[0m \u001b[1;32mas\u001b[0m \u001b[0me\u001b[0m\u001b[1;33m:\u001b[0m\u001b[1;33m\u001b[0m\u001b[1;33m\u001b[0m\u001b[0m\n\u001b[0;32m   1247\u001b[0m             self._handle_dbapi_exception(\n\u001b[1;32m-> 1248\u001b[1;33m                 \u001b[0me\u001b[0m\u001b[1;33m,\u001b[0m \u001b[0mstatement\u001b[0m\u001b[1;33m,\u001b[0m \u001b[0mparameters\u001b[0m\u001b[1;33m,\u001b[0m \u001b[0mcursor\u001b[0m\u001b[1;33m,\u001b[0m \u001b[0mcontext\u001b[0m\u001b[1;33m\u001b[0m\u001b[1;33m\u001b[0m\u001b[0m\n\u001b[0m\u001b[0;32m   1249\u001b[0m             )\n\u001b[0;32m   1250\u001b[0m \u001b[1;33m\u001b[0m\u001b[0m\n",
      "\u001b[1;32mf:\\python\\python37\\lib\\site-packages\\sqlalchemy\\engine\\base.py\u001b[0m in \u001b[0;36m_handle_dbapi_exception\u001b[1;34m(self, e, statement, parameters, cursor, context)\u001b[0m\n\u001b[0;32m   1464\u001b[0m                 \u001b[0mutil\u001b[0m\u001b[1;33m.\u001b[0m\u001b[0mraise_from_cause\u001b[0m\u001b[1;33m(\u001b[0m\u001b[0mnewraise\u001b[0m\u001b[1;33m,\u001b[0m \u001b[0mexc_info\u001b[0m\u001b[1;33m)\u001b[0m\u001b[1;33m\u001b[0m\u001b[1;33m\u001b[0m\u001b[0m\n\u001b[0;32m   1465\u001b[0m             \u001b[1;32melif\u001b[0m \u001b[0mshould_wrap\u001b[0m\u001b[1;33m:\u001b[0m\u001b[1;33m\u001b[0m\u001b[1;33m\u001b[0m\u001b[0m\n\u001b[1;32m-> 1466\u001b[1;33m                 \u001b[0mutil\u001b[0m\u001b[1;33m.\u001b[0m\u001b[0mraise_from_cause\u001b[0m\u001b[1;33m(\u001b[0m\u001b[0msqlalchemy_exception\u001b[0m\u001b[1;33m,\u001b[0m \u001b[0mexc_info\u001b[0m\u001b[1;33m)\u001b[0m\u001b[1;33m\u001b[0m\u001b[1;33m\u001b[0m\u001b[0m\n\u001b[0m\u001b[0;32m   1467\u001b[0m             \u001b[1;32melse\u001b[0m\u001b[1;33m:\u001b[0m\u001b[1;33m\u001b[0m\u001b[1;33m\u001b[0m\u001b[0m\n\u001b[0;32m   1468\u001b[0m                 \u001b[0mutil\u001b[0m\u001b[1;33m.\u001b[0m\u001b[0mreraise\u001b[0m\u001b[1;33m(\u001b[0m\u001b[1;33m*\u001b[0m\u001b[0mexc_info\u001b[0m\u001b[1;33m)\u001b[0m\u001b[1;33m\u001b[0m\u001b[1;33m\u001b[0m\u001b[0m\n",
      "\u001b[1;32mf:\\python\\python37\\lib\\site-packages\\sqlalchemy\\util\\compat.py\u001b[0m in \u001b[0;36mraise_from_cause\u001b[1;34m(exception, exc_info)\u001b[0m\n\u001b[0;32m    397\u001b[0m     \u001b[0mexc_type\u001b[0m\u001b[1;33m,\u001b[0m \u001b[0mexc_value\u001b[0m\u001b[1;33m,\u001b[0m \u001b[0mexc_tb\u001b[0m \u001b[1;33m=\u001b[0m \u001b[0mexc_info\u001b[0m\u001b[1;33m\u001b[0m\u001b[1;33m\u001b[0m\u001b[0m\n\u001b[0;32m    398\u001b[0m     \u001b[0mcause\u001b[0m \u001b[1;33m=\u001b[0m \u001b[0mexc_value\u001b[0m \u001b[1;32mif\u001b[0m \u001b[0mexc_value\u001b[0m \u001b[1;32mis\u001b[0m \u001b[1;32mnot\u001b[0m \u001b[0mexception\u001b[0m \u001b[1;32melse\u001b[0m \u001b[1;32mNone\u001b[0m\u001b[1;33m\u001b[0m\u001b[1;33m\u001b[0m\u001b[0m\n\u001b[1;32m--> 399\u001b[1;33m     \u001b[0mreraise\u001b[0m\u001b[1;33m(\u001b[0m\u001b[0mtype\u001b[0m\u001b[1;33m(\u001b[0m\u001b[0mexception\u001b[0m\u001b[1;33m)\u001b[0m\u001b[1;33m,\u001b[0m \u001b[0mexception\u001b[0m\u001b[1;33m,\u001b[0m \u001b[0mtb\u001b[0m\u001b[1;33m=\u001b[0m\u001b[0mexc_tb\u001b[0m\u001b[1;33m,\u001b[0m \u001b[0mcause\u001b[0m\u001b[1;33m=\u001b[0m\u001b[0mcause\u001b[0m\u001b[1;33m)\u001b[0m\u001b[1;33m\u001b[0m\u001b[1;33m\u001b[0m\u001b[0m\n\u001b[0m\u001b[0;32m    400\u001b[0m \u001b[1;33m\u001b[0m\u001b[0m\n\u001b[0;32m    401\u001b[0m \u001b[1;33m\u001b[0m\u001b[0m\n",
      "\u001b[1;32mf:\\python\\python37\\lib\\site-packages\\sqlalchemy\\util\\compat.py\u001b[0m in \u001b[0;36mreraise\u001b[1;34m(tp, value, tb, cause)\u001b[0m\n\u001b[0;32m    151\u001b[0m             \u001b[0mvalue\u001b[0m\u001b[1;33m.\u001b[0m\u001b[0m__cause__\u001b[0m \u001b[1;33m=\u001b[0m \u001b[0mcause\u001b[0m\u001b[1;33m\u001b[0m\u001b[1;33m\u001b[0m\u001b[0m\n\u001b[0;32m    152\u001b[0m         \u001b[1;32mif\u001b[0m \u001b[0mvalue\u001b[0m\u001b[1;33m.\u001b[0m\u001b[0m__traceback__\u001b[0m \u001b[1;32mis\u001b[0m \u001b[1;32mnot\u001b[0m \u001b[0mtb\u001b[0m\u001b[1;33m:\u001b[0m\u001b[1;33m\u001b[0m\u001b[1;33m\u001b[0m\u001b[0m\n\u001b[1;32m--> 153\u001b[1;33m             \u001b[1;32mraise\u001b[0m \u001b[0mvalue\u001b[0m\u001b[1;33m.\u001b[0m\u001b[0mwith_traceback\u001b[0m\u001b[1;33m(\u001b[0m\u001b[0mtb\u001b[0m\u001b[1;33m)\u001b[0m\u001b[1;33m\u001b[0m\u001b[1;33m\u001b[0m\u001b[0m\n\u001b[0m\u001b[0;32m    154\u001b[0m         \u001b[1;32mraise\u001b[0m \u001b[0mvalue\u001b[0m\u001b[1;33m\u001b[0m\u001b[1;33m\u001b[0m\u001b[0m\n\u001b[0;32m    155\u001b[0m \u001b[1;33m\u001b[0m\u001b[0m\n",
      "\u001b[1;32mf:\\python\\python37\\lib\\site-packages\\sqlalchemy\\engine\\base.py\u001b[0m in \u001b[0;36m_execute_context\u001b[1;34m(self, dialect, constructor, statement, parameters, *args)\u001b[0m\n\u001b[0;32m   1242\u001b[0m                 \u001b[1;32mif\u001b[0m \u001b[1;32mnot\u001b[0m \u001b[0mevt_handled\u001b[0m\u001b[1;33m:\u001b[0m\u001b[1;33m\u001b[0m\u001b[1;33m\u001b[0m\u001b[0m\n\u001b[0;32m   1243\u001b[0m                     self.dialect.do_execute(\n\u001b[1;32m-> 1244\u001b[1;33m                         \u001b[0mcursor\u001b[0m\u001b[1;33m,\u001b[0m \u001b[0mstatement\u001b[0m\u001b[1;33m,\u001b[0m \u001b[0mparameters\u001b[0m\u001b[1;33m,\u001b[0m \u001b[0mcontext\u001b[0m\u001b[1;33m\u001b[0m\u001b[1;33m\u001b[0m\u001b[0m\n\u001b[0m\u001b[0;32m   1245\u001b[0m                     )\n\u001b[0;32m   1246\u001b[0m         \u001b[1;32mexcept\u001b[0m \u001b[0mBaseException\u001b[0m \u001b[1;32mas\u001b[0m \u001b[0me\u001b[0m\u001b[1;33m:\u001b[0m\u001b[1;33m\u001b[0m\u001b[1;33m\u001b[0m\u001b[0m\n",
      "\u001b[1;32mf:\\python\\python37\\lib\\site-packages\\sqlalchemy\\engine\\default.py\u001b[0m in \u001b[0;36mdo_execute\u001b[1;34m(self, cursor, statement, parameters, context)\u001b[0m\n\u001b[0;32m    548\u001b[0m \u001b[1;33m\u001b[0m\u001b[0m\n\u001b[0;32m    549\u001b[0m     \u001b[1;32mdef\u001b[0m \u001b[0mdo_execute\u001b[0m\u001b[1;33m(\u001b[0m\u001b[0mself\u001b[0m\u001b[1;33m,\u001b[0m \u001b[0mcursor\u001b[0m\u001b[1;33m,\u001b[0m \u001b[0mstatement\u001b[0m\u001b[1;33m,\u001b[0m \u001b[0mparameters\u001b[0m\u001b[1;33m,\u001b[0m \u001b[0mcontext\u001b[0m\u001b[1;33m=\u001b[0m\u001b[1;32mNone\u001b[0m\u001b[1;33m)\u001b[0m\u001b[1;33m:\u001b[0m\u001b[1;33m\u001b[0m\u001b[1;33m\u001b[0m\u001b[0m\n\u001b[1;32m--> 550\u001b[1;33m         \u001b[0mcursor\u001b[0m\u001b[1;33m.\u001b[0m\u001b[0mexecute\u001b[0m\u001b[1;33m(\u001b[0m\u001b[0mstatement\u001b[0m\u001b[1;33m,\u001b[0m \u001b[0mparameters\u001b[0m\u001b[1;33m)\u001b[0m\u001b[1;33m\u001b[0m\u001b[1;33m\u001b[0m\u001b[0m\n\u001b[0m\u001b[0;32m    551\u001b[0m \u001b[1;33m\u001b[0m\u001b[0m\n\u001b[0;32m    552\u001b[0m     \u001b[1;32mdef\u001b[0m \u001b[0mdo_execute_no_params\u001b[0m\u001b[1;33m(\u001b[0m\u001b[0mself\u001b[0m\u001b[1;33m,\u001b[0m \u001b[0mcursor\u001b[0m\u001b[1;33m,\u001b[0m \u001b[0mstatement\u001b[0m\u001b[1;33m,\u001b[0m \u001b[0mcontext\u001b[0m\u001b[1;33m=\u001b[0m\u001b[1;32mNone\u001b[0m\u001b[1;33m)\u001b[0m\u001b[1;33m:\u001b[0m\u001b[1;33m\u001b[0m\u001b[1;33m\u001b[0m\u001b[0m\n",
      "\u001b[1;31mOperationalError\u001b[0m: (sqlite3.OperationalError) no such table: station\n[SQL: \nDROP TABLE station]\n(Background on this error at: http://sqlalche.me/e/e3q8)"
     ]
    }
   ],
   "source": [
    "station = db.Table('station', \n",
    "                   metadata,\n",
    "                   autoload=True,\n",
    "                   autoload_with=engine)\n",
    "station.drop(engine, checkfirst = True)"
   ]
  },
  {
   "cell_type": "code",
   "execution_count": 121,
   "metadata": {
    "ExecuteTime": {
     "end_time": "2019-07-02T21:48:38.344950Z",
     "start_time": "2019-07-02T21:48:38.329325Z"
    }
   },
   "outputs": [
    {
     "data": {
      "text/plain": [
       "dict_keys(['stationen', 'wettermessung'])"
      ]
     },
     "execution_count": 121,
     "metadata": {},
     "output_type": "execute_result"
    }
   ],
   "source": [
    "metadata.tables.keys()"
   ]
  },
  {
   "cell_type": "code",
   "execution_count": 88,
   "metadata": {
    "ExecuteTime": {
     "end_time": "2019-07-02T21:27:33.387610Z",
     "start_time": "2019-07-02T21:27:33.356352Z"
    }
   },
   "outputs": [],
   "source": [
    "sql = 'DROP TABLE IF EXISTS station;'\n",
    "result = engine.execute(sql)"
   ]
  },
  {
   "cell_type": "markdown",
   "metadata": {},
   "source": [
    "## Query Tables of Database"
   ]
  },
  {
   "cell_type": "markdown",
   "metadata": {},
   "source": [
    "**Table \"stationen\"**"
   ]
  },
  {
   "cell_type": "code",
   "execution_count": 122,
   "metadata": {
    "ExecuteTime": {
     "end_time": "2019-07-02T21:48:50.013946Z",
     "start_time": "2019-07-02T21:48:49.920195Z"
    }
   },
   "outputs": [
    {
     "name": "stdout",
     "output_type": "stream",
     "text": [
      "Content of 'data/weather_repo.sqlite'': \n"
     ]
    },
    {
     "data": {
      "text/html": [
       "<div>\n",
       "<style scoped>\n",
       "    .dataframe tbody tr th:only-of-type {\n",
       "        vertical-align: middle;\n",
       "    }\n",
       "\n",
       "    .dataframe tbody tr th {\n",
       "        vertical-align: top;\n",
       "    }\n",
       "\n",
       "    .dataframe thead th {\n",
       "        text-align: right;\n",
       "    }\n",
       "</style>\n",
       "<table border=\"1\" class=\"dataframe\">\n",
       "  <thead>\n",
       "    <tr style=\"text-align: right;\">\n",
       "      <th></th>\n",
       "      <th>S_ID</th>\n",
       "      <th>Standort</th>\n",
       "      <th>Geo_Breite</th>\n",
       "      <th>Geo_Laenge</th>\n",
       "      <th>Hoehe</th>\n",
       "      <th>Betreiber</th>\n",
       "      <th>Plz_matched</th>\n",
       "      <th>Ort_matched</th>\n",
       "      <th>Latitude_matched</th>\n",
       "      <th>Longitude_matched</th>\n",
       "    </tr>\n",
       "  </thead>\n",
       "  <tbody>\n",
       "    <tr>\n",
       "      <th>0</th>\n",
       "      <td>102</td>\n",
       "      <td>Leuchtturm Alte Weser</td>\n",
       "      <td>53.863</td>\n",
       "      <td>8.127</td>\n",
       "      <td>32</td>\n",
       "      <td>DWD</td>\n",
       "      <td>26486</td>\n",
       "      <td>Nordseebad Wangerooge</td>\n",
       "      <td>7.91141</td>\n",
       "      <td>53.7896</td>\n",
       "    </tr>\n",
       "    <tr>\n",
       "      <th>1</th>\n",
       "      <td>164</td>\n",
       "      <td>Angermünde</td>\n",
       "      <td>53.032</td>\n",
       "      <td>13.991</td>\n",
       "      <td>54</td>\n",
       "      <td>DWD</td>\n",
       "      <td>16278</td>\n",
       "      <td>Angermünde</td>\n",
       "      <td>14.01040</td>\n",
       "      <td>53.0547</td>\n",
       "    </tr>\n",
       "    <tr>\n",
       "      <th>2</th>\n",
       "      <td>183</td>\n",
       "      <td>Arkona</td>\n",
       "      <td>54.679</td>\n",
       "      <td>13.434</td>\n",
       "      <td>42</td>\n",
       "      <td>DWD</td>\n",
       "      <td>18556</td>\n",
       "      <td>Dranske</td>\n",
       "      <td>13.31760</td>\n",
       "      <td>54.6303</td>\n",
       "    </tr>\n",
       "    <tr>\n",
       "      <th>3</th>\n",
       "      <td>232</td>\n",
       "      <td>Augsburg</td>\n",
       "      <td>48.425</td>\n",
       "      <td>10.942</td>\n",
       "      <td>461</td>\n",
       "      <td>DWD</td>\n",
       "      <td>86169</td>\n",
       "      <td>Augsburg</td>\n",
       "      <td>10.90450</td>\n",
       "      <td>48.4209</td>\n",
       "    </tr>\n",
       "  </tbody>\n",
       "</table>\n",
       "</div>"
      ],
      "text/plain": [
       "   S_ID               Standort  Geo_Breite  Geo_Laenge  Hoehe Betreiber  \\\n",
       "0   102  Leuchtturm Alte Weser      53.863       8.127     32       DWD   \n",
       "1   164             Angermünde      53.032      13.991     54       DWD   \n",
       "2   183                 Arkona      54.679      13.434     42       DWD   \n",
       "3   232               Augsburg      48.425      10.942    461       DWD   \n",
       "\n",
       "  Plz_matched            Ort_matched  Latitude_matched  Longitude_matched  \n",
       "0       26486  Nordseebad Wangerooge           7.91141            53.7896  \n",
       "1       16278             Angermünde          14.01040            53.0547  \n",
       "2       18556                Dranske          13.31760            54.6303  \n",
       "3       86169               Augsburg          10.90450            48.4209  "
      ]
     },
     "execution_count": 122,
     "metadata": {},
     "output_type": "execute_result"
    }
   ],
   "source": [
    "print(\"Content of '{}'': \".format(sqlite_db[\"database\"]))\n",
    "\n",
    "station = db.Table('stationen', \n",
    "                   metadata,\n",
    "                   autoload=True,\n",
    "                   autoload_with=engine)\n",
    "\n",
    "results = connection.execute(db.select([station])).fetchall()\n",
    "df = pd.DataFrame(results)\n",
    "df.columns = results[0].keys()\n",
    "df.head(4)"
   ]
  },
  {
   "cell_type": "markdown",
   "metadata": {},
   "source": [
    "**Table \"wettermessung\"**"
   ]
  },
  {
   "cell_type": "code",
   "execution_count": 125,
   "metadata": {
    "ExecuteTime": {
     "end_time": "2019-07-02T21:50:10.157414Z",
     "start_time": "2019-07-02T21:50:07.356699Z"
    }
   },
   "outputs": [
    {
     "name": "stdout",
     "output_type": "stream",
     "text": [
      "Content of 'data/weather_repo.sqlite'': \n"
     ]
    },
    {
     "data": {
      "text/html": [
       "<div>\n",
       "<style scoped>\n",
       "    .dataframe tbody tr th:only-of-type {\n",
       "        vertical-align: middle;\n",
       "    }\n",
       "\n",
       "    .dataframe tbody tr th {\n",
       "        vertical-align: top;\n",
       "    }\n",
       "\n",
       "    .dataframe thead th {\n",
       "        text-align: right;\n",
       "    }\n",
       "</style>\n",
       "<table border=\"1\" class=\"dataframe\">\n",
       "  <thead>\n",
       "    <tr style=\"text-align: right;\">\n",
       "      <th></th>\n",
       "      <th>Stations_ID</th>\n",
       "      <th>Datum</th>\n",
       "      <th>Qualitaet</th>\n",
       "      <th>Min_5cm</th>\n",
       "      <th>Min_2m</th>\n",
       "      <th>Mittel_2m</th>\n",
       "      <th>Max_2m</th>\n",
       "      <th>Relative_Feuchte</th>\n",
       "      <th>Mittel_Windstaerke</th>\n",
       "      <th>Max_Windgeschwindigkeit</th>\n",
       "      <th>Sonnenscheindauer</th>\n",
       "      <th>Mittel_Bedeckungsgrad</th>\n",
       "      <th>Niederschlagshoehe</th>\n",
       "      <th>Mittel_Luftdruck</th>\n",
       "    </tr>\n",
       "  </thead>\n",
       "  <tbody>\n",
       "    <tr>\n",
       "      <th>0</th>\n",
       "      <td>102</td>\n",
       "      <td>2017-12-27</td>\n",
       "      <td>3.0</td>\n",
       "      <td>NaN</td>\n",
       "      <td>4.0</td>\n",
       "      <td>5.0</td>\n",
       "      <td>5.7</td>\n",
       "      <td>87.63</td>\n",
       "      <td>9.7</td>\n",
       "      <td>16.3</td>\n",
       "      <td>0.000</td>\n",
       "      <td>NaN</td>\n",
       "      <td>NaN</td>\n",
       "      <td>981.17</td>\n",
       "    </tr>\n",
       "    <tr>\n",
       "      <th>1</th>\n",
       "      <td>102</td>\n",
       "      <td>2017-12-28</td>\n",
       "      <td>3.0</td>\n",
       "      <td>NaN</td>\n",
       "      <td>2.7</td>\n",
       "      <td>4.7</td>\n",
       "      <td>6.3</td>\n",
       "      <td>83.42</td>\n",
       "      <td>12.6</td>\n",
       "      <td>20.9</td>\n",
       "      <td>1.900</td>\n",
       "      <td>NaN</td>\n",
       "      <td>NaN</td>\n",
       "      <td>987.32</td>\n",
       "    </tr>\n",
       "    <tr>\n",
       "      <th>2</th>\n",
       "      <td>102</td>\n",
       "      <td>2017-12-29</td>\n",
       "      <td>3.0</td>\n",
       "      <td>NaN</td>\n",
       "      <td>1.8</td>\n",
       "      <td>3.0</td>\n",
       "      <td>4.5</td>\n",
       "      <td>86.83</td>\n",
       "      <td>13.2</td>\n",
       "      <td>20.5</td>\n",
       "      <td>4.533</td>\n",
       "      <td>NaN</td>\n",
       "      <td>NaN</td>\n",
       "      <td>994.75</td>\n",
       "    </tr>\n",
       "    <tr>\n",
       "      <th>3</th>\n",
       "      <td>102</td>\n",
       "      <td>2017-12-30</td>\n",
       "      <td>3.0</td>\n",
       "      <td>NaN</td>\n",
       "      <td>2.8</td>\n",
       "      <td>5.3</td>\n",
       "      <td>7.9</td>\n",
       "      <td>92.00</td>\n",
       "      <td>13.8</td>\n",
       "      <td>25.0</td>\n",
       "      <td>0.000</td>\n",
       "      <td>NaN</td>\n",
       "      <td>NaN</td>\n",
       "      <td>989.25</td>\n",
       "    </tr>\n",
       "  </tbody>\n",
       "</table>\n",
       "</div>"
      ],
      "text/plain": [
       "   Stations_ID      Datum  Qualitaet  Min_5cm  Min_2m  Mittel_2m  Max_2m  \\\n",
       "0          102 2017-12-27        3.0      NaN     4.0        5.0     5.7   \n",
       "1          102 2017-12-28        3.0      NaN     2.7        4.7     6.3   \n",
       "2          102 2017-12-29        3.0      NaN     1.8        3.0     4.5   \n",
       "3          102 2017-12-30        3.0      NaN     2.8        5.3     7.9   \n",
       "\n",
       "   Relative_Feuchte  Mittel_Windstaerke  Max_Windgeschwindigkeit  \\\n",
       "0             87.63                 9.7                     16.3   \n",
       "1             83.42                12.6                     20.9   \n",
       "2             86.83                13.2                     20.5   \n",
       "3             92.00                13.8                     25.0   \n",
       "\n",
       "   Sonnenscheindauer  Mittel_Bedeckungsgrad  Niederschlagshoehe  \\\n",
       "0              0.000                    NaN                 NaN   \n",
       "1              1.900                    NaN                 NaN   \n",
       "2              4.533                    NaN                 NaN   \n",
       "3              0.000                    NaN                 NaN   \n",
       "\n",
       "   Mittel_Luftdruck  \n",
       "0            981.17  \n",
       "1            987.32  \n",
       "2            994.75  \n",
       "3            989.25  "
      ]
     },
     "execution_count": 125,
     "metadata": {},
     "output_type": "execute_result"
    }
   ],
   "source": [
    "print(\"Content of '{}'': \".format(sqlite_db[\"database\"]))\n",
    "\n",
    "station = db.Table('wettermessung', \n",
    "                   metadata,\n",
    "                   autoload=True,\n",
    "                   autoload_with=engine)\n",
    "\n",
    "results = connection.execute(db.select([station])).fetchall()\n",
    "df = pd.DataFrame(results)\n",
    "df.columns = results[0].keys()\n",
    "df.head(4)"
   ]
  },
  {
   "cell_type": "code",
   "execution_count": 124,
   "metadata": {
    "ExecuteTime": {
     "end_time": "2019-07-02T21:49:52.684253Z",
     "start_time": "2019-07-02T21:49:52.653003Z"
    },
    "scrolled": true
   },
   "outputs": [
    {
     "data": {
      "text/plain": [
       "Stations_ID                         int64\n",
       "Datum                      datetime64[ns]\n",
       "Qualitaet                         float64\n",
       "Min_5cm                           float64\n",
       "Min_2m                            float64\n",
       "Mittel_2m                         float64\n",
       "Max_2m                            float64\n",
       "Relative_Feuchte                  float64\n",
       "Mittel_Windstaerke                float64\n",
       "Max_Windgeschwindigkeit           float64\n",
       "Sonnenscheindauer                 float64\n",
       "Mittel_Bedeckungsgrad             float64\n",
       "Niederschlagshoehe                float64\n",
       "Mittel_Luftdruck                  float64\n",
       "dtype: object"
      ]
     },
     "execution_count": 124,
     "metadata": {},
     "output_type": "execute_result"
    }
   ],
   "source": [
    "df.dtypes"
   ]
  },
  {
   "cell_type": "code",
   "execution_count": 127,
   "metadata": {
    "ExecuteTime": {
     "end_time": "2019-07-02T21:50:53.168344Z",
     "start_time": "2019-07-02T21:50:53.121469Z"
    }
   },
   "outputs": [
    {
     "data": {
      "text/plain": [
       "Timestamp('2019-06-28 00:00:00')"
      ]
     },
     "execution_count": 127,
     "metadata": {},
     "output_type": "execute_result"
    }
   ],
   "source": [
    "df[\"Datum\"].max()"
   ]
  },
  {
   "cell_type": "markdown",
   "metadata": {},
   "source": [
    "**Table \"temp\"**"
   ]
  },
  {
   "cell_type": "code",
   "execution_count": 138,
   "metadata": {
    "ExecuteTime": {
     "end_time": "2019-07-02T21:55:08.108531Z",
     "start_time": "2019-07-02T21:55:06.012339Z"
    }
   },
   "outputs": [
    {
     "name": "stdout",
     "output_type": "stream",
     "text": [
      "Content of 'data/weather_repo.sqlite'': \n"
     ]
    },
    {
     "data": {
      "text/html": [
       "<div>\n",
       "<style scoped>\n",
       "    .dataframe tbody tr th:only-of-type {\n",
       "        vertical-align: middle;\n",
       "    }\n",
       "\n",
       "    .dataframe tbody tr th {\n",
       "        vertical-align: top;\n",
       "    }\n",
       "\n",
       "    .dataframe thead th {\n",
       "        text-align: right;\n",
       "    }\n",
       "</style>\n",
       "<table border=\"1\" class=\"dataframe\">\n",
       "  <thead>\n",
       "    <tr style=\"text-align: right;\">\n",
       "      <th></th>\n",
       "      <th>Stations_ID</th>\n",
       "      <th>Datum</th>\n",
       "      <th>Qualitaet</th>\n",
       "      <th>Min_5cm</th>\n",
       "      <th>Min_2m</th>\n",
       "      <th>Mittel_2m</th>\n",
       "      <th>Max_2m</th>\n",
       "      <th>Relative_Feuchte</th>\n",
       "      <th>Mittel_Windstaerke</th>\n",
       "      <th>Max_Windgeschwindigkeit</th>\n",
       "      <th>Sonnenscheindauer</th>\n",
       "      <th>Mittel_Bedeckungsgrad</th>\n",
       "      <th>Niederschlagshoehe</th>\n",
       "      <th>Mittel_Luftdruck</th>\n",
       "    </tr>\n",
       "  </thead>\n",
       "  <tbody>\n",
       "    <tr>\n",
       "      <th>0</th>\n",
       "      <td>102</td>\n",
       "      <td>2017-12-27</td>\n",
       "      <td>3.0</td>\n",
       "      <td>NaN</td>\n",
       "      <td>4.0</td>\n",
       "      <td>5.0</td>\n",
       "      <td>5.7</td>\n",
       "      <td>87.63</td>\n",
       "      <td>9.7</td>\n",
       "      <td>16.3</td>\n",
       "      <td>0.000</td>\n",
       "      <td>NaN</td>\n",
       "      <td>NaN</td>\n",
       "      <td>981.17</td>\n",
       "    </tr>\n",
       "    <tr>\n",
       "      <th>1</th>\n",
       "      <td>102</td>\n",
       "      <td>2017-12-28</td>\n",
       "      <td>3.0</td>\n",
       "      <td>NaN</td>\n",
       "      <td>2.7</td>\n",
       "      <td>4.7</td>\n",
       "      <td>6.3</td>\n",
       "      <td>83.42</td>\n",
       "      <td>12.6</td>\n",
       "      <td>20.9</td>\n",
       "      <td>1.900</td>\n",
       "      <td>NaN</td>\n",
       "      <td>NaN</td>\n",
       "      <td>987.32</td>\n",
       "    </tr>\n",
       "    <tr>\n",
       "      <th>2</th>\n",
       "      <td>102</td>\n",
       "      <td>2017-12-29</td>\n",
       "      <td>3.0</td>\n",
       "      <td>NaN</td>\n",
       "      <td>1.8</td>\n",
       "      <td>3.0</td>\n",
       "      <td>4.5</td>\n",
       "      <td>86.83</td>\n",
       "      <td>13.2</td>\n",
       "      <td>20.5</td>\n",
       "      <td>4.533</td>\n",
       "      <td>NaN</td>\n",
       "      <td>NaN</td>\n",
       "      <td>994.75</td>\n",
       "    </tr>\n",
       "    <tr>\n",
       "      <th>3</th>\n",
       "      <td>102</td>\n",
       "      <td>2017-12-30</td>\n",
       "      <td>3.0</td>\n",
       "      <td>NaN</td>\n",
       "      <td>2.8</td>\n",
       "      <td>5.3</td>\n",
       "      <td>7.9</td>\n",
       "      <td>92.00</td>\n",
       "      <td>13.8</td>\n",
       "      <td>25.0</td>\n",
       "      <td>0.000</td>\n",
       "      <td>NaN</td>\n",
       "      <td>NaN</td>\n",
       "      <td>989.25</td>\n",
       "    </tr>\n",
       "  </tbody>\n",
       "</table>\n",
       "</div>"
      ],
      "text/plain": [
       "   Stations_ID      Datum  Qualitaet  Min_5cm  Min_2m  Mittel_2m  Max_2m  \\\n",
       "0          102 2017-12-27        3.0      NaN     4.0        5.0     5.7   \n",
       "1          102 2017-12-28        3.0      NaN     2.7        4.7     6.3   \n",
       "2          102 2017-12-29        3.0      NaN     1.8        3.0     4.5   \n",
       "3          102 2017-12-30        3.0      NaN     2.8        5.3     7.9   \n",
       "\n",
       "   Relative_Feuchte  Mittel_Windstaerke  Max_Windgeschwindigkeit  \\\n",
       "0             87.63                 9.7                     16.3   \n",
       "1             83.42                12.6                     20.9   \n",
       "2             86.83                13.2                     20.5   \n",
       "3             92.00                13.8                     25.0   \n",
       "\n",
       "   Sonnenscheindauer  Mittel_Bedeckungsgrad  Niederschlagshoehe  \\\n",
       "0              0.000                    NaN                 NaN   \n",
       "1              1.900                    NaN                 NaN   \n",
       "2              4.533                    NaN                 NaN   \n",
       "3              0.000                    NaN                 NaN   \n",
       "\n",
       "   Mittel_Luftdruck  \n",
       "0            981.17  \n",
       "1            987.32  \n",
       "2            994.75  \n",
       "3            989.25  "
      ]
     },
     "execution_count": 138,
     "metadata": {},
     "output_type": "execute_result"
    }
   ],
   "source": [
    "print(\"Content of '{}'': \".format(sqlite_db[\"database\"]))\n",
    "\n",
    "station = db.Table('temp', \n",
    "                   metadata,\n",
    "                   autoload=True,\n",
    "                   autoload_with=engine)\n",
    "\n",
    "results = connection.execute(db.select([station])).fetchall()\n",
    "df = pd.DataFrame(results)\n",
    "df.columns = results[0].keys()\n",
    "df.head(4)"
   ]
  },
  {
   "cell_type": "code",
   "execution_count": 137,
   "metadata": {
    "ExecuteTime": {
     "end_time": "2019-07-02T21:55:02.652492Z",
     "start_time": "2019-07-02T21:55:02.621249Z"
    }
   },
   "outputs": [
    {
     "data": {
      "text/plain": [
       "Stations_ID                         int64\n",
       "Datum                      datetime64[ns]\n",
       "Qualitaet                         float64\n",
       "Min_5cm                           float64\n",
       "Min_2m                            float64\n",
       "Mittel_2m                         float64\n",
       "Max_2m                            float64\n",
       "Relative_Feuchte                  float64\n",
       "Mittel_Windstaerke                float64\n",
       "Max_Windgeschwindigkeit           float64\n",
       "Sonnenscheindauer                 float64\n",
       "Mittel_Bedeckungsgrad             float64\n",
       "Niederschlagshoehe                float64\n",
       "Mittel_Luftdruck                  float64\n",
       "dtype: object"
      ]
     },
     "execution_count": 137,
     "metadata": {},
     "output_type": "execute_result"
    }
   ],
   "source": [
    "df.dtypes"
   ]
  },
  {
   "cell_type": "code",
   "execution_count": 139,
   "metadata": {
    "ExecuteTime": {
     "end_time": "2019-07-02T21:55:25.731441Z",
     "start_time": "2019-07-02T21:55:25.700190Z"
    }
   },
   "outputs": [
    {
     "data": {
      "text/plain": [
       "Timestamp('2019-06-29 00:00:00')"
      ]
     },
     "execution_count": 139,
     "metadata": {},
     "output_type": "execute_result"
    }
   ],
   "source": [
    "df[\"Datum\"].max()"
   ]
  },
  {
   "cell_type": "code",
   "execution_count": null,
   "metadata": {},
   "outputs": [],
   "source": []
  },
  {
   "cell_type": "code",
   "execution_count": null,
   "metadata": {},
   "outputs": [],
   "source": []
  },
  {
   "cell_type": "code",
   "execution_count": null,
   "metadata": {},
   "outputs": [],
   "source": []
  },
  {
   "cell_type": "markdown",
   "metadata": {},
   "source": [
    "## Pre-Implementation"
   ]
  },
  {
   "cell_type": "code",
   "execution_count": 5,
   "metadata": {
    "ExecuteTime": {
     "end_time": "2019-07-01T20:28:29.368656Z",
     "start_time": "2019-07-01T20:28:29.337409Z"
    }
   },
   "outputs": [
    {
     "data": {
      "text/plain": [
       "Engine(sqlite:///data/weather_data.sqlite)"
      ]
     },
     "execution_count": 5,
     "metadata": {},
     "output_type": "execute_result"
    }
   ],
   "source": [
    "sqlite_db = {'drivername': 'sqlite', 'database': 'data/weather_data.sqlite'}\n",
    "\n",
    "# if file in subfolder, don't start string for ubfolder with \"/\"\n",
    "db_conn = db.engine.url.URL(**sqlite_db)\n",
    "engine = db.create_engine(db_conn)\n",
    "engine"
   ]
  },
  {
   "cell_type": "code",
   "execution_count": 6,
   "metadata": {
    "ExecuteTime": {
     "end_time": "2019-07-01T20:28:43.200097Z",
     "start_time": "2019-07-01T20:28:43.137603Z"
    }
   },
   "outputs": [],
   "source": [
    "connection = engine.connect()\n",
    "metadata = db.MetaData()\n",
    "emp = db.Table('emp', metadata,\n",
    "db.Column('Id', db.Integer()),\n",
    "db.Column('name', db.String(255), nullable=False),\n",
    "db.Column('salary', db.Float(), default=100.0),\n",
    "db.Column('active', db.Boolean(), default=True)\n",
    ")\n",
    "metadata.create_all(engine) #Creates the table"
   ]
  },
  {
   "cell_type": "code",
   "execution_count": 9,
   "metadata": {
    "ExecuteTime": {
     "end_time": "2019-07-01T20:31:05.448556Z",
     "start_time": "2019-07-01T20:31:05.401682Z"
    }
   },
   "outputs": [],
   "source": [
    "query = db.insert(emp).values(Id=1, name='naveen', salary=60000.00,\n",
    "active=True) \n",
    "ResultProxy = connection.execute(query)"
   ]
  },
  {
   "cell_type": "code",
   "execution_count": 11,
   "metadata": {
    "ExecuteTime": {
     "end_time": "2019-07-01T20:31:37.512714Z",
     "start_time": "2019-07-01T20:31:37.403335Z"
    },
    "scrolled": false
   },
   "outputs": [
    {
     "data": {
      "text/html": [
       "<div>\n",
       "<style scoped>\n",
       "    .dataframe tbody tr th:only-of-type {\n",
       "        vertical-align: middle;\n",
       "    }\n",
       "\n",
       "    .dataframe tbody tr th {\n",
       "        vertical-align: top;\n",
       "    }\n",
       "\n",
       "    .dataframe thead th {\n",
       "        text-align: right;\n",
       "    }\n",
       "</style>\n",
       "<table border=\"1\" class=\"dataframe\">\n",
       "  <thead>\n",
       "    <tr style=\"text-align: right;\">\n",
       "      <th></th>\n",
       "      <th>Id</th>\n",
       "      <th>name</th>\n",
       "      <th>salary</th>\n",
       "      <th>active</th>\n",
       "    </tr>\n",
       "  </thead>\n",
       "  <tbody>\n",
       "    <tr>\n",
       "      <th>0</th>\n",
       "      <td>1</td>\n",
       "      <td>naveen</td>\n",
       "      <td>60000.0</td>\n",
       "      <td>True</td>\n",
       "    </tr>\n",
       "    <tr>\n",
       "      <th>1</th>\n",
       "      <td>1</td>\n",
       "      <td>naveen</td>\n",
       "      <td>60000.0</td>\n",
       "      <td>True</td>\n",
       "    </tr>\n",
       "  </tbody>\n",
       "</table>\n",
       "</div>"
      ],
      "text/plain": [
       "   Id    name   salary  active\n",
       "0   1  naveen  60000.0    True\n",
       "1   1  naveen  60000.0    True"
      ]
     },
     "execution_count": 11,
     "metadata": {},
     "output_type": "execute_result"
    }
   ],
   "source": [
    "results = connection.execute(db.select([emp])).fetchall()\n",
    "df = pd.DataFrame(results)\n",
    "df.columns = results[0].keys()\n",
    "df.head(4)"
   ]
  },
  {
   "cell_type": "markdown",
   "metadata": {},
   "source": [
    "## Insert data"
   ]
  },
  {
   "cell_type": "markdown",
   "metadata": {},
   "source": [
    "**fast bulk insert from dataframe into sqlite**  \n",
    "\n",
    "https://stackoverflow.com/questions/31997859/bulk-insert-a-pandas-dataframe-using-sqlalchemy  \n",
    "    \n",
    "https://www.codementor.io/bruce3557/graceful-data-ingestion-with-sqlalchemy-and-pandas-pft7ddcy6  "
   ]
  },
  {
   "cell_type": "code",
   "execution_count": 19,
   "metadata": {
    "ExecuteTime": {
     "end_time": "2019-07-01T20:45:16.481324Z",
     "start_time": "2019-07-01T20:45:16.434447Z"
    }
   },
   "outputs": [],
   "source": [
    "#Inserting many records at ones\n",
    "query = db.insert(station)\n",
    "values_list = [\n",
    "    {'S_ID': 2,\n",
    "     'Standort': \"\",\n",
    "     'Geo_Breite': 0.0,\n",
    "     'Geo_Laenge': 0.0,\n",
    "     'Hoehe': 0,\n",
    "     'Betreiber': \"\",\n",
    "     'PLZ_matched': \"\",\n",
    "     'Ort_matched': \"\",\n",
    "     'Latitude_matched': 0.0,\n",
    "     'Longitude_matched': 0.0} \n",
    "]\n",
    "\n",
    "ResultProxy = connection.execute(query,values_list)"
   ]
  }
 ],
 "metadata": {
  "kernelspec": {
   "display_name": "Python 3",
   "language": "python",
   "name": "python3"
  },
  "language_info": {
   "codemirror_mode": {
    "name": "ipython",
    "version": 3
   },
   "file_extension": ".py",
   "mimetype": "text/x-python",
   "name": "python",
   "nbconvert_exporter": "python",
   "pygments_lexer": "ipython3",
   "version": "3.7.2"
  },
  "varInspector": {
   "cols": {
    "lenName": 16,
    "lenType": 16,
    "lenVar": 40
   },
   "kernels_config": {
    "python": {
     "delete_cmd_postfix": "",
     "delete_cmd_prefix": "del ",
     "library": "var_list.py",
     "varRefreshCmd": "print(var_dic_list())"
    },
    "r": {
     "delete_cmd_postfix": ") ",
     "delete_cmd_prefix": "rm(",
     "library": "var_list.r",
     "varRefreshCmd": "cat(var_dic_list()) "
    }
   },
   "types_to_exclude": [
    "module",
    "function",
    "builtin_function_or_method",
    "instance",
    "_Feature"
   ],
   "window_display": true
  }
 },
 "nbformat": 4,
 "nbformat_minor": 2
}
